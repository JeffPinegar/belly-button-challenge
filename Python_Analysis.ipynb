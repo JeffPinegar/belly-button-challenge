{
 "cells": [
  {
   "attachments": {},
   "cell_type": "markdown",
   "metadata": {},
   "source": [
    "#### just tying to look at the data frame"
   ]
  },
  {
   "cell_type": "code",
   "execution_count": 2,
   "metadata": {},
   "outputs": [],
   "source": [
    "import pandas as pd\n",
    "from datetime import datetime as dt \n",
    "from scipy import stats\n",
    "import os\n",
    "import requests"
   ]
  },
  {
   "cell_type": "code",
   "execution_count": 3,
   "metadata": {},
   "outputs": [],
   "source": [
    "myJson = os.path.join('.', 'samples2.json')\n",
    "df = pd.read_json(myJson)"
   ]
  },
  {
   "cell_type": "code",
   "execution_count": 4,
   "metadata": {},
   "outputs": [
    {
     "data": {
      "text/html": [
       "<div>\n",
       "<style scoped>\n",
       "    .dataframe tbody tr th:only-of-type {\n",
       "        vertical-align: middle;\n",
       "    }\n",
       "\n",
       "    .dataframe tbody tr th {\n",
       "        vertical-align: top;\n",
       "    }\n",
       "\n",
       "    .dataframe thead th {\n",
       "        text-align: right;\n",
       "    }\n",
       "</style>\n",
       "<table border=\"1\" class=\"dataframe\">\n",
       "  <thead>\n",
       "    <tr style=\"text-align: right;\">\n",
       "      <th></th>\n",
       "      <th>id</th>\n",
       "      <th>ethnicity</th>\n",
       "      <th>gender</th>\n",
       "      <th>age</th>\n",
       "      <th>location</th>\n",
       "      <th>bbtype</th>\n",
       "      <th>wfreq</th>\n",
       "    </tr>\n",
       "  </thead>\n",
       "  <tbody>\n",
       "    <tr>\n",
       "      <th>0</th>\n",
       "      <td>940</td>\n",
       "      <td>Caucasian</td>\n",
       "      <td>F</td>\n",
       "      <td>24.0</td>\n",
       "      <td>Beaufort/NC</td>\n",
       "      <td>I</td>\n",
       "      <td>2.0</td>\n",
       "    </tr>\n",
       "    <tr>\n",
       "      <th>1</th>\n",
       "      <td>941</td>\n",
       "      <td>Caucasian/Midleastern</td>\n",
       "      <td>F</td>\n",
       "      <td>34.0</td>\n",
       "      <td>Chicago/IL</td>\n",
       "      <td>I</td>\n",
       "      <td>1.0</td>\n",
       "    </tr>\n",
       "    <tr>\n",
       "      <th>2</th>\n",
       "      <td>943</td>\n",
       "      <td>Caucasian</td>\n",
       "      <td>F</td>\n",
       "      <td>49.0</td>\n",
       "      <td>Omaha/NE</td>\n",
       "      <td>I</td>\n",
       "      <td>1.0</td>\n",
       "    </tr>\n",
       "    <tr>\n",
       "      <th>3</th>\n",
       "      <td>944</td>\n",
       "      <td>European</td>\n",
       "      <td>M</td>\n",
       "      <td>44.0</td>\n",
       "      <td>NewHaven/CT</td>\n",
       "      <td>I</td>\n",
       "      <td>1.0</td>\n",
       "    </tr>\n",
       "    <tr>\n",
       "      <th>4</th>\n",
       "      <td>945</td>\n",
       "      <td>Caucasian</td>\n",
       "      <td>F</td>\n",
       "      <td>48.0</td>\n",
       "      <td>Philidelphia/PA</td>\n",
       "      <td>I</td>\n",
       "      <td>1.0</td>\n",
       "    </tr>\n",
       "  </tbody>\n",
       "</table>\n",
       "</div>"
      ],
      "text/plain": [
       "    id              ethnicity gender   age         location bbtype  wfreq\n",
       "0  940              Caucasian      F  24.0      Beaufort/NC      I    2.0\n",
       "1  941  Caucasian/Midleastern      F  34.0       Chicago/IL      I    1.0\n",
       "2  943              Caucasian      F  49.0         Omaha/NE      I    1.0\n",
       "3  944               European      M  44.0      NewHaven/CT      I    1.0\n",
       "4  945              Caucasian      F  48.0  Philidelphia/PA      I    1.0"
      ]
     },
     "execution_count": 4,
     "metadata": {},
     "output_type": "execute_result"
    }
   ],
   "source": [
    "df.head()"
   ]
  },
  {
   "cell_type": "code",
   "execution_count": 5,
   "metadata": {},
   "outputs": [],
   "source": [
    "myJson = os.path.join('.', 'samples2.json')\n",
    "df = pd.read_json(myJson)"
   ]
  },
  {
   "cell_type": "markdown",
   "metadata": {},
   "source": []
  },
  {
   "cell_type": "code",
   "execution_count": 6,
   "metadata": {},
   "outputs": [],
   "source": [
    "url = 'https://2u-data-curriculum-team.s3.amazonaws.com/dataviz-classroom/v1.1/14-Interactive-Web-Visualizations/02-Homework/samples.json'\n",
    "\n",
    "resp = requests.get(url, timeout=10,headers={'Content-Type': 'application/json'})\n",
    "df2= pd.read_json(resp.text)\n"
   ]
  },
  {
   "cell_type": "code",
   "execution_count": 7,
   "metadata": {},
   "outputs": [
    {
     "data": {
      "text/html": [
       "<div>\n",
       "<style scoped>\n",
       "    .dataframe tbody tr th:only-of-type {\n",
       "        vertical-align: middle;\n",
       "    }\n",
       "\n",
       "    .dataframe tbody tr th {\n",
       "        vertical-align: top;\n",
       "    }\n",
       "\n",
       "    .dataframe thead th {\n",
       "        text-align: right;\n",
       "    }\n",
       "</style>\n",
       "<table border=\"1\" class=\"dataframe\">\n",
       "  <thead>\n",
       "    <tr style=\"text-align: right;\">\n",
       "      <th></th>\n",
       "      <th>names</th>\n",
       "      <th>metadata</th>\n",
       "      <th>samples</th>\n",
       "    </tr>\n",
       "  </thead>\n",
       "  <tbody>\n",
       "    <tr>\n",
       "      <th>0</th>\n",
       "      <td>940</td>\n",
       "      <td>{'id': 940, 'ethnicity': 'Caucasian', 'gender'...</td>\n",
       "      <td>{'id': '940', 'otu_ids': [1167, 2859, 482, 226...</td>\n",
       "    </tr>\n",
       "    <tr>\n",
       "      <th>1</th>\n",
       "      <td>941</td>\n",
       "      <td>{'id': 941, 'ethnicity': 'Caucasian/Midleaster...</td>\n",
       "      <td>{'id': '941', 'otu_ids': [2722, 944, 2419, 253...</td>\n",
       "    </tr>\n",
       "    <tr>\n",
       "      <th>2</th>\n",
       "      <td>943</td>\n",
       "      <td>{'id': 943, 'ethnicity': 'Caucasian', 'gender'...</td>\n",
       "      <td>{'id': '943', 'otu_ids': [1795], 'sample_value...</td>\n",
       "    </tr>\n",
       "    <tr>\n",
       "      <th>3</th>\n",
       "      <td>944</td>\n",
       "      <td>{'id': 944, 'ethnicity': 'European', 'gender':...</td>\n",
       "      <td>{'id': '944', 'otu_ids': [922, 3555, 943, 1013...</td>\n",
       "    </tr>\n",
       "    <tr>\n",
       "      <th>4</th>\n",
       "      <td>945</td>\n",
       "      <td>{'id': 945, 'ethnicity': 'Caucasian', 'gender'...</td>\n",
       "      <td>{'id': '945', 'otu_ids': [944, 1795, 922, 2419...</td>\n",
       "    </tr>\n",
       "  </tbody>\n",
       "</table>\n",
       "</div>"
      ],
      "text/plain": [
       "   names                                           metadata  \\\n",
       "0    940  {'id': 940, 'ethnicity': 'Caucasian', 'gender'...   \n",
       "1    941  {'id': 941, 'ethnicity': 'Caucasian/Midleaster...   \n",
       "2    943  {'id': 943, 'ethnicity': 'Caucasian', 'gender'...   \n",
       "3    944  {'id': 944, 'ethnicity': 'European', 'gender':...   \n",
       "4    945  {'id': 945, 'ethnicity': 'Caucasian', 'gender'...   \n",
       "\n",
       "                                             samples  \n",
       "0  {'id': '940', 'otu_ids': [1167, 2859, 482, 226...  \n",
       "1  {'id': '941', 'otu_ids': [2722, 944, 2419, 253...  \n",
       "2  {'id': '943', 'otu_ids': [1795], 'sample_value...  \n",
       "3  {'id': '944', 'otu_ids': [922, 3555, 943, 1013...  \n",
       "4  {'id': '945', 'otu_ids': [944, 1795, 922, 2419...  "
      ]
     },
     "execution_count": 7,
     "metadata": {},
     "output_type": "execute_result"
    }
   ],
   "source": [
    "df2.head()\n"
   ]
  },
  {
   "cell_type": "code",
   "execution_count": 8,
   "metadata": {},
   "outputs": [],
   "source": [
    "metadata = df2.metadata.values.tolist()"
   ]
  },
  {
   "cell_type": "code",
   "execution_count": 9,
   "metadata": {},
   "outputs": [
    {
     "data": {
      "text/html": [
       "<div>\n",
       "<style scoped>\n",
       "    .dataframe tbody tr th:only-of-type {\n",
       "        vertical-align: middle;\n",
       "    }\n",
       "\n",
       "    .dataframe tbody tr th {\n",
       "        vertical-align: top;\n",
       "    }\n",
       "\n",
       "    .dataframe thead th {\n",
       "        text-align: right;\n",
       "    }\n",
       "</style>\n",
       "<table border=\"1\" class=\"dataframe\">\n",
       "  <thead>\n",
       "    <tr style=\"text-align: right;\">\n",
       "      <th></th>\n",
       "      <th>id</th>\n",
       "      <th>ethnicity</th>\n",
       "      <th>gender</th>\n",
       "      <th>age</th>\n",
       "      <th>location</th>\n",
       "      <th>bbtype</th>\n",
       "      <th>wfreq</th>\n",
       "    </tr>\n",
       "  </thead>\n",
       "  <tbody>\n",
       "    <tr>\n",
       "      <th>0</th>\n",
       "      <td>940</td>\n",
       "      <td>Caucasian</td>\n",
       "      <td>F</td>\n",
       "      <td>24.0</td>\n",
       "      <td>Beaufort/NC</td>\n",
       "      <td>I</td>\n",
       "      <td>2.0</td>\n",
       "    </tr>\n",
       "    <tr>\n",
       "      <th>1</th>\n",
       "      <td>941</td>\n",
       "      <td>Caucasian/Midleastern</td>\n",
       "      <td>F</td>\n",
       "      <td>34.0</td>\n",
       "      <td>Chicago/IL</td>\n",
       "      <td>I</td>\n",
       "      <td>1.0</td>\n",
       "    </tr>\n",
       "    <tr>\n",
       "      <th>2</th>\n",
       "      <td>943</td>\n",
       "      <td>Caucasian</td>\n",
       "      <td>F</td>\n",
       "      <td>49.0</td>\n",
       "      <td>Omaha/NE</td>\n",
       "      <td>I</td>\n",
       "      <td>1.0</td>\n",
       "    </tr>\n",
       "    <tr>\n",
       "      <th>3</th>\n",
       "      <td>944</td>\n",
       "      <td>European</td>\n",
       "      <td>M</td>\n",
       "      <td>44.0</td>\n",
       "      <td>NewHaven/CT</td>\n",
       "      <td>I</td>\n",
       "      <td>1.0</td>\n",
       "    </tr>\n",
       "    <tr>\n",
       "      <th>4</th>\n",
       "      <td>945</td>\n",
       "      <td>Caucasian</td>\n",
       "      <td>F</td>\n",
       "      <td>48.0</td>\n",
       "      <td>Philidelphia/PA</td>\n",
       "      <td>I</td>\n",
       "      <td>1.0</td>\n",
       "    </tr>\n",
       "  </tbody>\n",
       "</table>\n",
       "</div>"
      ],
      "text/plain": [
       "    id              ethnicity gender   age         location bbtype  wfreq\n",
       "0  940              Caucasian      F  24.0      Beaufort/NC      I    2.0\n",
       "1  941  Caucasian/Midleastern      F  34.0       Chicago/IL      I    1.0\n",
       "2  943              Caucasian      F  49.0         Omaha/NE      I    1.0\n",
       "3  944               European      M  44.0      NewHaven/CT      I    1.0\n",
       "4  945              Caucasian      F  48.0  Philidelphia/PA      I    1.0"
      ]
     },
     "execution_count": 9,
     "metadata": {},
     "output_type": "execute_result"
    }
   ],
   "source": [
    "df3=pd.DataFrame.from_dict(metadata)\n",
    "df3.head()"
   ]
  },
  {
   "cell_type": "code",
   "execution_count": 10,
   "metadata": {},
   "outputs": [],
   "source": [
    "myJson = os.path.join('.', 'metadata.json')\n",
    "df3.to_json(myJson)"
   ]
  },
  {
   "cell_type": "code",
   "execution_count": 19,
   "metadata": {},
   "outputs": [
    {
     "data": {
      "text/html": [
       "<div>\n",
       "<style scoped>\n",
       "    .dataframe tbody tr th:only-of-type {\n",
       "        vertical-align: middle;\n",
       "    }\n",
       "\n",
       "    .dataframe tbody tr th {\n",
       "        vertical-align: top;\n",
       "    }\n",
       "\n",
       "    .dataframe thead th {\n",
       "        text-align: right;\n",
       "    }\n",
       "</style>\n",
       "<table border=\"1\" class=\"dataframe\">\n",
       "  <thead>\n",
       "    <tr style=\"text-align: right;\">\n",
       "      <th></th>\n",
       "      <th>id</th>\n",
       "      <th>ethnicity</th>\n",
       "      <th>gender</th>\n",
       "      <th>age</th>\n",
       "      <th>location</th>\n",
       "      <th>bbtype</th>\n",
       "      <th>wfreq</th>\n",
       "    </tr>\n",
       "  </thead>\n",
       "  <tbody>\n",
       "    <tr>\n",
       "      <th>0</th>\n",
       "      <td>940</td>\n",
       "      <td>Caucasian</td>\n",
       "      <td>F</td>\n",
       "      <td>24.0</td>\n",
       "      <td>Beaufort/NC</td>\n",
       "      <td>I</td>\n",
       "      <td>2.0</td>\n",
       "    </tr>\n",
       "    <tr>\n",
       "      <th>1</th>\n",
       "      <td>941</td>\n",
       "      <td>Caucasian/Midleastern</td>\n",
       "      <td>F</td>\n",
       "      <td>34.0</td>\n",
       "      <td>Chicago/IL</td>\n",
       "      <td>I</td>\n",
       "      <td>1.0</td>\n",
       "    </tr>\n",
       "    <tr>\n",
       "      <th>2</th>\n",
       "      <td>943</td>\n",
       "      <td>Caucasian</td>\n",
       "      <td>F</td>\n",
       "      <td>49.0</td>\n",
       "      <td>Omaha/NE</td>\n",
       "      <td>I</td>\n",
       "      <td>1.0</td>\n",
       "    </tr>\n",
       "    <tr>\n",
       "      <th>3</th>\n",
       "      <td>944</td>\n",
       "      <td>European</td>\n",
       "      <td>M</td>\n",
       "      <td>44.0</td>\n",
       "      <td>NewHaven/CT</td>\n",
       "      <td>I</td>\n",
       "      <td>1.0</td>\n",
       "    </tr>\n",
       "    <tr>\n",
       "      <th>4</th>\n",
       "      <td>945</td>\n",
       "      <td>Caucasian</td>\n",
       "      <td>F</td>\n",
       "      <td>48.0</td>\n",
       "      <td>Philidelphia/PA</td>\n",
       "      <td>I</td>\n",
       "      <td>1.0</td>\n",
       "    </tr>\n",
       "  </tbody>\n",
       "</table>\n",
       "</div>"
      ],
      "text/plain": [
       "    id              ethnicity gender   age         location bbtype  wfreq\n",
       "0  940              Caucasian      F  24.0      Beaufort/NC      I    2.0\n",
       "1  941  Caucasian/Midleastern      F  34.0       Chicago/IL      I    1.0\n",
       "2  943              Caucasian      F  49.0         Omaha/NE      I    1.0\n",
       "3  944               European      M  44.0      NewHaven/CT      I    1.0\n",
       "4  945              Caucasian      F  48.0  Philidelphia/PA      I    1.0"
      ]
     },
     "execution_count": 19,
     "metadata": {},
     "output_type": "execute_result"
    }
   ],
   "source": [
    "df3.head()"
   ]
  },
  {
   "cell_type": "code",
   "execution_count": 21,
   "metadata": {},
   "outputs": [
    {
     "data": {
      "text/plain": [
       "id             int64\n",
       "ethnicity     object\n",
       "gender        object\n",
       "age          float64\n",
       "location      object\n",
       "bbtype        object\n",
       "wfreq        float64\n",
       "dtype: object"
      ]
     },
     "execution_count": 21,
     "metadata": {},
     "output_type": "execute_result"
    }
   ],
   "source": [
    "df3.dtypes"
   ]
  },
  {
   "cell_type": "code",
   "execution_count": null,
   "metadata": {},
   "outputs": [],
   "source": []
  }
 ],
 "metadata": {
  "kernelspec": {
   "display_name": "base",
   "language": "python",
   "name": "python3"
  },
  "language_info": {
   "codemirror_mode": {
    "name": "ipython",
    "version": 3
   },
   "file_extension": ".py",
   "mimetype": "text/x-python",
   "name": "python",
   "nbconvert_exporter": "python",
   "pygments_lexer": "ipython3",
   "version": "3.9.13 | packaged by conda-forge | (main, May 27 2022, 16:51:29) [MSC v.1929 64 bit (AMD64)]"
  },
  "orig_nbformat": 4,
  "vscode": {
   "interpreter": {
    "hash": "e7f336f9bec1e74624fa1ea8a759f275624ff514e02e1aa8e3e0a6d78d32a22a"
   }
  }
 },
 "nbformat": 4,
 "nbformat_minor": 2
}
